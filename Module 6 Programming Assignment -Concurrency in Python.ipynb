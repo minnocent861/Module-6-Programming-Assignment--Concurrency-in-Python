{
 "cells": [
  {
   "cell_type": "code",
   "execution_count": 5,
   "id": "8bb3f766-b6b2-49ed-9da7-d8dc469f875b",
   "metadata": {},
   "outputs": [
    {
     "data": {
      "text/plain": [
       "\"It's Saturday, November 30, 2024, local time 09:43:27PM\""
      ]
     },
     "execution_count": 5,
     "metadata": {},
     "output_type": "execute_result"
    }
   ],
   "source": [
    "#13.1 Write the current date as a string to the text file today.txt.\n",
    "import time\n",
    "fmt = \"It's %A, %B %d, %Y, local time %I:%M:%S%p\"\n",
    "t = time.localtime()\n",
    "t\n",
    "time.strftime(fmt, t)\n"
   ]
  },
  {
   "cell_type": "code",
   "execution_count": 7,
   "id": "ca234839-de30-4925-9d3b-435435494411",
   "metadata": {},
   "outputs": [],
   "source": [
    "with open(\"today.txt\", \"w\") as file:\n",
    "    file.write(time.strftime(fmt, t))"
   ]
  },
  {
   "cell_type": "code",
   "execution_count": 8,
   "id": "d9b2a4e0-8372-4338-8601-e7224d577145",
   "metadata": {},
   "outputs": [
    {
     "name": "stdout",
     "output_type": "stream",
     "text": [
      "It's Saturday, November 30, 2024, local time 09:44:14PM\n"
     ]
    }
   ],
   "source": [
    "#13.2 Read the text file today.txt into the string today_string.\n",
    "with open(\"today.txt\", \"r\") as file:\n",
    "    today_string = file.read()\n",
    "\n",
    "# to verify\n",
    "print(today_string)"
   ]
  },
  {
   "cell_type": "code",
   "execution_count": 12,
   "id": "6c7741e4-7699-4417-82bb-cd2767afd758",
   "metadata": {},
   "outputs": [
    {
     "data": {
      "text/plain": [
       "time.struct_time(tm_year=2024, tm_mon=11, tm_mday=30, tm_hour=0, tm_min=0, tm_sec=0, tm_wday=5, tm_yday=335, tm_isdst=-1)"
      ]
     },
     "execution_count": 12,
     "metadata": {},
     "output_type": "execute_result"
    }
   ],
   "source": [
    "#13.3 Parse the date from today_string.\n",
    "\n",
    "\n",
    "import time\n",
    "fmt = \"%Y-%m-%d\"\n",
    "time.strptime(\"2024-11-30\", fmt)\n"
   ]
  },
  {
   "cell_type": "code",
   "execution_count": 30,
   "id": "b21070b7-fbd6-40f3-98ef-1b45f9a2bdf4",
   "metadata": {},
   "outputs": [
    {
     "name": "stdout",
     "output_type": "stream",
     "text": [
      "exit.\n"
     ]
    }
   ],
   "source": [
    "#15.1 Use multiprocessing to create three separate processes. Make each one wait a random number of seconds between zero and one, print the current time, and then exit.\n",
    "\n",
    "import multiprocessing\n",
    "import time\n",
    "import random\n",
    "from datetime import datetime\n",
    "\n",
    "def P():\n",
    "    \"\"\"Function executed by each process.\"\"\"\n",
    "    #  a random amount of time between 0 and 1 second\n",
    "    time.sleep(random.uniform(0, 1))\n",
    "    # Print the current time\n",
    "    print(f\"Process {multiprocessing.current_process().name} - Current Time: {datetime.now().strftime('%H:%M:%S')}\")\n",
    "\n",
    "if __name__ == \"__main__\":\n",
    "    # Create three separate processes\n",
    "    processes = []\n",
    "    for i in range(3):\n",
    "        process = multiprocessing.Process(target=P, name=f\"P-{i+1}\")\n",
    "        processes.append(process)\n",
    "        process.start()\n",
    "\n",
    "    # Wait for all processes to finish\n",
    "    for process in processes:\n",
    "        process.join()\n",
    "\n",
    "    print(\"exit.\")"
   ]
  },
  {
   "cell_type": "code",
   "execution_count": null,
   "id": "f71035fb-a9c7-47aa-a736-37bfaa08947a",
   "metadata": {},
   "outputs": [],
   "source": []
  }
 ],
 "metadata": {
  "kernelspec": {
   "display_name": "Python 3 (ipykernel)",
   "language": "python",
   "name": "python3"
  },
  "language_info": {
   "codemirror_mode": {
    "name": "ipython",
    "version": 3
   },
   "file_extension": ".py",
   "mimetype": "text/x-python",
   "name": "python",
   "nbconvert_exporter": "python",
   "pygments_lexer": "ipython3",
   "version": "3.12.7"
  }
 },
 "nbformat": 4,
 "nbformat_minor": 5
}
